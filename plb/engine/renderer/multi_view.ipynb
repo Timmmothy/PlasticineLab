{
 "cells": [
  {
   "cell_type": "code",
   "execution_count": 1,
   "metadata": {
    "collapsed": true
   },
   "outputs": [],
   "source": [
    "%load_ext autoreload\n",
    "%autoreload 2"
   ]
  },
  {
   "cell_type": "code",
   "execution_count": 2,
   "outputs": [],
   "source": [
    "from plb.config import load\n",
    "cfg = load(\"sphere.yml\")\n",
    "\n",
    "rots =  [(0.8, 0.), (0.8, 1.8), (0.8, -1.8)]\n",
    "trans = [(0.5, 2.5, 2.2), (2.4, 2.5, 0.2), (-1.9, 2.5, 0.2)]"
   ],
   "metadata": {
    "collapsed": false,
    "pycharm": {
     "name": "#%%\n"
    }
   }
  },
  {
   "cell_type": "code",
   "execution_count": 3,
   "outputs": [
    {
     "name": "stdout",
     "output_type": "stream",
     "text": [
      "ENV:\n",
      "  loss:\n",
      "    soft_contact: False\n",
      "    target_path: envs/assets/Cutting-v1.npy\n",
      "    weight:\n",
      "      contact: 1\n",
      "      density: 10\n",
      "      sdf: 10\n",
      "  n_observed_particles: 200\n",
      "PRIMITIVES: [{'shape': 'Box', 'size': '(0.1, 0.1, 0.1)', 'init_pos': '(0.5, 0.5, 0.5)', 'color': '(0.8, 0.8, 0.8)', 'friction': 20.0, 'lower_bound': '(0.1, 0.05, 0.1)', 'upper_bound': '(0.9, 0.9, 0.9)', 'action': {'dim': 3, 'scale': '(0.02, 0.001, 0.02)'}}]\n",
      "RENDERER:\n",
      "  bake_size: 6\n",
      "  camera_pos: (2.4, 2.5, 0.2)\n",
      "  camera_rot: (0.8, 1.8)\n",
      "  dx: 0.006666666666666667\n",
      "  image_res: (512, 512)\n",
      "  light_direction: (2.0, 1.0, 0.7)\n",
      "  max_num_particles: 1000000\n",
      "  max_ray_depth: 2\n",
      "  sdf_threshold: 0.20720000000000002\n",
      "  spp: 50\n",
      "  target_res: (64, 64, 64)\n",
      "  use_directional_light: False\n",
      "  use_roulette: False\n",
      "  voxel_res: (168, 168, 168)\n",
      "SHAPES: [{'shape': 'sphere', 'radius': 0.05, 'init_pos': '(0.5, 0.1, 0.5)', 'color': '(127<<16)'}]\n",
      "SIMULATOR:\n",
      "  E: 5000.0\n",
      "  dim: 3\n",
      "  dtype: float64\n",
      "  gravity: (0.0, -1.0, 0.0)\n",
      "  ground_friction: 20.0\n",
      "  max_steps: 1024\n",
      "  muscle_stiffness: 150.0\n",
      "  n_particles: 9000\n",
      "  nu: 0.2\n",
      "  quality: 1\n",
      "  use_actuation: False\n",
      "  yield_stress: 400.0\n",
      "VARIANTS: [{'ENV': {'loss': {'target_path': 'envs/assets/Cutting-v1.npy'}}}, {'ENV': {'loss': {'target_path': 'envs/assets/Cutting-v1.npy'}}}, {'ENV': {'loss': {'target_path': 'envs/assets/Cutting-v1.npy'}}}, {'ENV': {'loss': {'target_path': 'envs/assets/Cutting-v1.npy'}}}, {'ENV': {'loss': {'target_path': 'envs/assets/Cutting-v1.npy'}}}]\n"
     ]
    }
   ],
   "source": [
    "idx = 1\n",
    "cfg.defrost()\n",
    "cfg.RENDERER.camera_pos = trans[idx]\n",
    "cfg.RENDERER.camera_rot = rots[idx]\n",
    "\n",
    "print(cfg)"
   ],
   "metadata": {
    "collapsed": false,
    "pycharm": {
     "name": "#%%\n"
    }
   }
  },
  {
   "cell_type": "code",
   "execution_count": 4,
   "outputs": [
    {
     "name": "stdout",
     "output_type": "stream",
     "text": [
      "[Taichi] mode=release\n",
      "[Taichi] preparing sandbox at /tmp/taichi-hwvf44ij\n",
      "[Taichi] version 0.7.20, llvm 10.0.0, commit 284f75ed, linux, python 3.8.10\n",
      "[Taichi] Starting on arch=cuda\n",
      "Building primitive\n",
      "action:\n",
      "  dim: 3\n",
      "  scale: (0.02, 0.001, 0.02)\n",
      "color: (0.8, 0.8, 0.8)\n",
      "friction: 20.0\n",
      "init_pos: (0.5, 0.5, 0.5)\n",
      "init_rot: (1.0, 0.0, 0.0, 0.0)\n",
      "lower_bound: (0.1, 0.05, 0.1)\n",
      "shape: Box\n",
      "size: (0.1, 0.1, 0.1)\n",
      "upper_bound: (0.9, 0.9, 0.9)\n",
      "variations: None\n",
      "{'radius': 0.05, 'init_pos': (0.5, 0.1, 0.5), 'color': 8323072}\n",
      "Initialize Renderer\n",
      "bake_size: 6  \n",
      "camera_pos: (2.4, 2.5, 0.2)  \n",
      "camera_rot: (0.8, 1.8)  \n",
      "dx: 0.006666666666666667  \n",
      "image_res: (512, 512)  \n",
      "light_direction: (2.0, 1.0, 0.7)  \n",
      "max_num_particles: 1000000  \n",
      "max_ray_depth: 2  \n",
      "sdf_threshold: 0.20720000000000002  \n",
      "spp: 50  \n",
      "target_res: (64, 64, 64)  \n",
      "use_directional_light: False  \n",
      "use_roulette: False  \n",
      "voxel_res: (168, 168, 168)\n",
      "[Taichi] materializing...\n"
     ]
    }
   ],
   "source": [
    "from plb.engine.taichi_env import TaichiEnv\n",
    "env = TaichiEnv(cfg, nn=False, loss=False)\n",
    "env.initialize()"
   ],
   "metadata": {
    "collapsed": false,
    "pycharm": {
     "name": "#%%\n"
    }
   }
  },
  {
   "cell_type": "code",
   "execution_count": 5,
   "outputs": [
    {
     "ename": "KeyboardInterrupt",
     "evalue": "",
     "output_type": "error",
     "traceback": [
      "\u001B[0;31m---------------------------------------------------------------------------\u001B[0m",
      "\u001B[0;31mKeyboardInterrupt\u001B[0m                         Traceback (most recent call last)",
      "\u001B[0;32m<ipython-input-5-4582cf6f44f4>\u001B[0m in \u001B[0;36m<module>\u001B[0;34m\u001B[0m\n\u001B[1;32m      1\u001B[0m \u001B[0;32mimport\u001B[0m \u001B[0mmatplotlib\u001B[0m\u001B[0;34m.\u001B[0m\u001B[0mpyplot\u001B[0m \u001B[0;32mas\u001B[0m \u001B[0mplt\u001B[0m\u001B[0;34m\u001B[0m\u001B[0;34m\u001B[0m\u001B[0m\n\u001B[1;32m      2\u001B[0m \u001B[0;32mimport\u001B[0m \u001B[0mnumpy\u001B[0m \u001B[0;32mas\u001B[0m \u001B[0mnp\u001B[0m\u001B[0;34m\u001B[0m\u001B[0;34m\u001B[0m\u001B[0m\n\u001B[0;32m----> 3\u001B[0;31m \u001B[0mrgbd\u001B[0m \u001B[0;34m=\u001B[0m \u001B[0menv\u001B[0m\u001B[0;34m.\u001B[0m\u001B[0mrender\u001B[0m\u001B[0;34m(\u001B[0m\u001B[0mmode\u001B[0m\u001B[0;34m=\u001B[0m\u001B[0;34m'rgb_array'\u001B[0m\u001B[0;34m,\u001B[0m \u001B[0mrender_mode\u001B[0m\u001B[0;34m=\u001B[0m\u001B[0;34m'rgbd'\u001B[0m\u001B[0;34m,\u001B[0m \u001B[0mshape\u001B[0m\u001B[0;34m=\u001B[0m\u001B[0;36m0\u001B[0m\u001B[0;34m)\u001B[0m\u001B[0;34m\u001B[0m\u001B[0;34m\u001B[0m\u001B[0m\n\u001B[0m\u001B[1;32m      4\u001B[0m \u001B[0;34m\u001B[0m\u001B[0m\n\u001B[1;32m      5\u001B[0m \u001B[0mrgb\u001B[0m \u001B[0;34m=\u001B[0m \u001B[0mnp\u001B[0m\u001B[0;34m.\u001B[0m\u001B[0muint8\u001B[0m\u001B[0;34m(\u001B[0m\u001B[0mrgbd\u001B[0m\u001B[0;34m[\u001B[0m\u001B[0;34m...\u001B[0m\u001B[0;34m,\u001B[0m \u001B[0;34m:\u001B[0m\u001B[0;36m3\u001B[0m\u001B[0;34m]\u001B[0m\u001B[0;34m)\u001B[0m\u001B[0;34m\u001B[0m\u001B[0;34m\u001B[0m\u001B[0m\n",
      "\u001B[0;32m~/plasticine/plb/engine/taichi_env.py\u001B[0m in \u001B[0;36mrender\u001B[0;34m(self, mode, wait_time, window_name, **kwargs)\u001B[0m\n\u001B[1;32m     77\u001B[0m         \u001B[0;32mif\u001B[0m \u001B[0mself\u001B[0m\u001B[0;34m.\u001B[0m\u001B[0msimulator\u001B[0m\u001B[0;34m.\u001B[0m\u001B[0mdim\u001B[0m \u001B[0;34m==\u001B[0m \u001B[0;36m2\u001B[0m \u001B[0;32mand\u001B[0m \u001B[0mlen\u001B[0m\u001B[0;34m(\u001B[0m\u001B[0mself\u001B[0m\u001B[0;34m.\u001B[0m\u001B[0mprimitives\u001B[0m\u001B[0;34m)\u001B[0m \u001B[0;34m>\u001B[0m \u001B[0;36m0\u001B[0m\u001B[0;34m:\u001B[0m\u001B[0;34m\u001B[0m\u001B[0;34m\u001B[0m\u001B[0m\n\u001B[1;32m     78\u001B[0m             \u001B[0mself\u001B[0m\u001B[0;34m.\u001B[0m\u001B[0mrenderer\u001B[0m\u001B[0;34m.\u001B[0m\u001B[0mset_primitives\u001B[0m\u001B[0;34m(\u001B[0m\u001B[0mself\u001B[0m\u001B[0;34m.\u001B[0m\u001B[0mprimitives\u001B[0m\u001B[0;34m.\u001B[0m\u001B[0mget_polygons\u001B[0m\u001B[0;34m(\u001B[0m\u001B[0;34m)\u001B[0m\u001B[0;34m)\u001B[0m\u001B[0;34m\u001B[0m\u001B[0;34m\u001B[0m\u001B[0m\n\u001B[0;32m---> 79\u001B[0;31m         \u001B[0mimg\u001B[0m \u001B[0;34m=\u001B[0m \u001B[0mself\u001B[0m\u001B[0;34m.\u001B[0m\u001B[0mrenderer\u001B[0m\u001B[0;34m.\u001B[0m\u001B[0mrender_frame\u001B[0m\u001B[0;34m(\u001B[0m\u001B[0;34m**\u001B[0m\u001B[0mkwargs\u001B[0m\u001B[0;34m)\u001B[0m\u001B[0;34m\u001B[0m\u001B[0;34m\u001B[0m\u001B[0m\n\u001B[0m\u001B[1;32m     80\u001B[0m \u001B[0;34m\u001B[0m\u001B[0m\n\u001B[1;32m     81\u001B[0m         \u001B[0;32mif\u001B[0m \u001B[0mimg\u001B[0m\u001B[0;34m.\u001B[0m\u001B[0mshape\u001B[0m\u001B[0;34m[\u001B[0m\u001B[0;34m-\u001B[0m\u001B[0;36m1\u001B[0m\u001B[0;34m]\u001B[0m \u001B[0;34m>=\u001B[0m \u001B[0;36m3\u001B[0m\u001B[0;34m:\u001B[0m\u001B[0;34m\u001B[0m\u001B[0;34m\u001B[0m\u001B[0m\n",
      "\u001B[0;32m~/plasticine/plb/engine/renderer/renderer.py\u001B[0m in \u001B[0;36mrender_frame\u001B[0;34m(self, spp, **kwargs)\u001B[0m\n\u001B[1;32m    504\u001B[0m         \u001B[0;32mfor\u001B[0m \u001B[0mi\u001B[0m \u001B[0;32min\u001B[0m \u001B[0mrange\u001B[0m\u001B[0;34m(\u001B[0m\u001B[0;36m1\u001B[0m\u001B[0;34m,\u001B[0m \u001B[0;36m1\u001B[0m \u001B[0;34m+\u001B[0m \u001B[0mspp\u001B[0m\u001B[0;34m)\u001B[0m\u001B[0;34m:\u001B[0m\u001B[0;34m\u001B[0m\u001B[0;34m\u001B[0m\u001B[0m\n\u001B[1;32m    505\u001B[0m             \u001B[0;31m# Opacity=50%\u001B[0m\u001B[0;34m\u001B[0m\u001B[0;34m\u001B[0m\u001B[0;34m\u001B[0m\u001B[0m\n\u001B[0;32m--> 506\u001B[0;31m             \u001B[0mself\u001B[0m\u001B[0;34m.\u001B[0m\u001B[0mvisualize_target\u001B[0m\u001B[0;34m[\u001B[0m\u001B[0;32mNone\u001B[0m\u001B[0;34m]\u001B[0m \u001B[0;34m=\u001B[0m \u001B[0mint\u001B[0m\u001B[0;34m(\u001B[0m\u001B[0mi\u001B[0m \u001B[0;34m%\u001B[0m \u001B[0;36m2\u001B[0m \u001B[0;34m==\u001B[0m \u001B[0;36m0\u001B[0m\u001B[0;34m)\u001B[0m \u001B[0;34m*\u001B[0m \u001B[0mvisualize_target\u001B[0m\u001B[0;34m\u001B[0m\u001B[0;34m\u001B[0m\u001B[0m\n\u001B[0m\u001B[1;32m    507\u001B[0m             \u001B[0mself\u001B[0m\u001B[0;34m.\u001B[0m\u001B[0mrender\u001B[0m\u001B[0;34m(\u001B[0m\u001B[0;34m)\u001B[0m\u001B[0;34m\u001B[0m\u001B[0;34m\u001B[0m\u001B[0m\n\u001B[1;32m    508\u001B[0m \u001B[0;34m\u001B[0m\u001B[0m\n",
      "\u001B[0;32m~/anaconda3/envs/py38/lib/python3.8/site-packages/taichi/lang/util.py\u001B[0m in \u001B[0;36mwrapped\u001B[0;34m(*args, **kwargs)\u001B[0m\n\u001B[1;32m    172\u001B[0m         \u001B[0;32massert\u001B[0m \u001B[0min_python_scope\u001B[0m\u001B[0;34m(\u001B[0m\u001B[0;34m)\u001B[0m\u001B[0;34m,\u001B[0m\u001B[0;31m \u001B[0m\u001B[0;31m\\\u001B[0m\u001B[0;34m\u001B[0m\u001B[0;34m\u001B[0m\u001B[0m\n\u001B[1;32m    173\u001B[0m                 \u001B[0;34mf'{func.__name__} cannot be called in Taichi-scope'\u001B[0m\u001B[0;34m\u001B[0m\u001B[0;34m\u001B[0m\u001B[0m\n\u001B[0;32m--> 174\u001B[0;31m         \u001B[0;32mreturn\u001B[0m \u001B[0mfunc\u001B[0m\u001B[0;34m(\u001B[0m\u001B[0;34m*\u001B[0m\u001B[0margs\u001B[0m\u001B[0;34m,\u001B[0m \u001B[0;34m**\u001B[0m\u001B[0mkwargs\u001B[0m\u001B[0;34m)\u001B[0m\u001B[0;34m\u001B[0m\u001B[0;34m\u001B[0m\u001B[0m\n\u001B[0m\u001B[1;32m    175\u001B[0m \u001B[0;34m\u001B[0m\u001B[0m\n\u001B[1;32m    176\u001B[0m     \u001B[0;32mreturn\u001B[0m \u001B[0mwrapped\u001B[0m\u001B[0;34m\u001B[0m\u001B[0;34m\u001B[0m\u001B[0m\n",
      "\u001B[0;32m~/anaconda3/envs/py38/lib/python3.8/site-packages/taichi/lang/expr.py\u001B[0m in \u001B[0;36m__setitem__\u001B[0;34m(self, key, value)\u001B[0m\n\u001B[1;32m     52\u001B[0m         \u001B[0;32massert\u001B[0m \u001B[0mlen\u001B[0m\u001B[0;34m(\u001B[0m\u001B[0mkey\u001B[0m\u001B[0;34m)\u001B[0m \u001B[0;34m==\u001B[0m \u001B[0mlen\u001B[0m\u001B[0;34m(\u001B[0m\u001B[0mself\u001B[0m\u001B[0;34m.\u001B[0m\u001B[0mshape\u001B[0m\u001B[0;34m)\u001B[0m\u001B[0;34m\u001B[0m\u001B[0;34m\u001B[0m\u001B[0m\n\u001B[1;32m     53\u001B[0m         \u001B[0mkey\u001B[0m \u001B[0;34m=\u001B[0m \u001B[0mkey\u001B[0m \u001B[0;34m+\u001B[0m \u001B[0;34m(\u001B[0m\u001B[0;34m(\u001B[0m\u001B[0;36m0\u001B[0m\u001B[0;34m,\u001B[0m \u001B[0;34m)\u001B[0m \u001B[0;34m*\u001B[0m \u001B[0;34m(\u001B[0m\u001B[0m_ti_core\u001B[0m\u001B[0;34m.\u001B[0m\u001B[0mget_max_num_indices\u001B[0m\u001B[0;34m(\u001B[0m\u001B[0;34m)\u001B[0m \u001B[0;34m-\u001B[0m \u001B[0mlen\u001B[0m\u001B[0;34m(\u001B[0m\u001B[0mkey\u001B[0m\u001B[0;34m)\u001B[0m\u001B[0;34m)\u001B[0m\u001B[0;34m)\u001B[0m\u001B[0;34m\u001B[0m\u001B[0;34m\u001B[0m\u001B[0m\n\u001B[0;32m---> 54\u001B[0;31m         \u001B[0mself\u001B[0m\u001B[0;34m.\u001B[0m\u001B[0msetter\u001B[0m\u001B[0;34m(\u001B[0m\u001B[0mvalue\u001B[0m\u001B[0;34m,\u001B[0m \u001B[0;34m*\u001B[0m\u001B[0mkey\u001B[0m\u001B[0;34m)\u001B[0m\u001B[0;34m\u001B[0m\u001B[0;34m\u001B[0m\u001B[0m\n\u001B[0m\u001B[1;32m     55\u001B[0m \u001B[0;34m\u001B[0m\u001B[0m\n\u001B[1;32m     56\u001B[0m     \u001B[0;34m@\u001B[0m\u001B[0mpython_scope\u001B[0m\u001B[0;34m\u001B[0m\u001B[0;34m\u001B[0m\u001B[0m\n",
      "\u001B[0;32m~/anaconda3/envs/py38/lib/python3.8/site-packages/taichi/lang/expr.py\u001B[0m in \u001B[0;36msetter\u001B[0;34m(value, *key)\u001B[0m\n\u001B[1;32m    104\u001B[0m             \u001B[0;32mdef\u001B[0m \u001B[0msetter\u001B[0m\u001B[0;34m(\u001B[0m\u001B[0mvalue\u001B[0m\u001B[0;34m,\u001B[0m \u001B[0;34m*\u001B[0m\u001B[0mkey\u001B[0m\u001B[0;34m)\u001B[0m\u001B[0;34m:\u001B[0m\u001B[0;34m\u001B[0m\u001B[0;34m\u001B[0m\u001B[0m\n\u001B[1;32m    105\u001B[0m                 \u001B[0;32massert\u001B[0m \u001B[0mlen\u001B[0m\u001B[0;34m(\u001B[0m\u001B[0mkey\u001B[0m\u001B[0;34m)\u001B[0m \u001B[0;34m==\u001B[0m \u001B[0m_ti_core\u001B[0m\u001B[0;34m.\u001B[0m\u001B[0mget_max_num_indices\u001B[0m\u001B[0;34m(\u001B[0m\u001B[0;34m)\u001B[0m\u001B[0;34m\u001B[0m\u001B[0;34m\u001B[0m\u001B[0m\n\u001B[0;32m--> 106\u001B[0;31m                 \u001B[0msnode\u001B[0m\u001B[0;34m.\u001B[0m\u001B[0mwrite_int\u001B[0m\u001B[0;34m(\u001B[0m\u001B[0mkey\u001B[0m\u001B[0;34m,\u001B[0m \u001B[0mvalue\u001B[0m\u001B[0;34m)\u001B[0m\u001B[0;34m\u001B[0m\u001B[0;34m\u001B[0m\u001B[0m\n\u001B[0m\u001B[1;32m    107\u001B[0m \u001B[0;34m\u001B[0m\u001B[0m\n\u001B[1;32m    108\u001B[0m         \u001B[0mself\u001B[0m\u001B[0;34m.\u001B[0m\u001B[0mgetter\u001B[0m \u001B[0;34m=\u001B[0m \u001B[0mgetter\u001B[0m\u001B[0;34m\u001B[0m\u001B[0;34m\u001B[0m\u001B[0m\n",
      "\u001B[0;31mKeyboardInterrupt\u001B[0m: "
     ]
    }
   ],
   "source": [
    "import matplotlib.pyplot as plt\n",
    "import numpy as np\n",
    "rgbd = env.render(mode='rgb_array', render_mode='rgbd', shape=0)\n",
    "\n",
    "rgb = np.uint8(rgbd[..., :3])\n",
    "depth = rgbd[..., 3]\n",
    "print(rgb.min(), rgb.max())\n",
    "plt.imshow(rgb)\n",
    "plt.show()\n",
    "plt.imshow(depth)\n",
    "plt.show()\n"
   ],
   "metadata": {
    "collapsed": false,
    "pycharm": {
     "name": "#%%\n"
    }
   }
  }
 ],
 "metadata": {
  "kernelspec": {
   "display_name": "Python 3",
   "language": "python",
   "name": "python3"
  },
  "language_info": {
   "codemirror_mode": {
    "name": "ipython",
    "version": 2
   },
   "file_extension": ".py",
   "mimetype": "text/x-python",
   "name": "python",
   "nbconvert_exporter": "python",
   "pygments_lexer": "ipython2",
   "version": "2.7.6"
  }
 },
 "nbformat": 4,
 "nbformat_minor": 0
}