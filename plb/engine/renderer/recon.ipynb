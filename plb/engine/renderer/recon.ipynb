{
 "cells": [
  {
   "cell_type": "code",
   "execution_count": 1,
   "metadata": {
    "collapsed": true,
    "pycharm": {
     "name": "#%%\n"
    }
   },
   "outputs": [
    {
     "name": "stdout",
     "output_type": "stream",
     "text": [
      "/home/hza/plasticine/toy\n",
      "(3, 512, 512, 3)\n",
      "(3, 512, 512)\n"
     ]
    }
   ],
   "source": [
    "import numpy as np\n",
    "import os\n",
    "\n",
    "print(os.getcwd())\n",
    "rgb = np.load(\"../plb/engine/renderer/rgb.npy\")\n",
    "depth = np.load(\"../plb/engine/renderer/depth.npy\")\n",
    "print(np.array(rgb).shape)\n",
    "print(np.array(depth).shape)"
   ]
  },
  {
   "cell_type": "code",
   "execution_count": 9,
   "outputs": [],
   "source": [
    "def get_ext(camera_rot, trans):\n",
    "    T = np.zeros((4,4))\n",
    "    T[:3, :3] = np.array([\n",
    "        [np.cos(camera_rot[1]), 0.0000000, np.sin(camera_rot[1])],\n",
    "        [0.0000000, 1.0000000, 0.0000000],\n",
    "        [-np.sin(camera_rot[1]), 0.0000000, np.cos(camera_rot[1])],\n",
    "    ]) @ np.array([\n",
    "        [1.0000000, 0.0000000, 0.0000000],\n",
    "        [0.0000000, np.cos(camera_rot[0]), np.sin(camera_rot[0])],\n",
    "        [0.0000000, -np.sin(camera_rot[0]), np.cos(camera_rot[0])],\n",
    "    ])\n",
    "    T[:3, 3] = np.array(trans)\n",
    "    T[3, 3] = 1\n",
    "    T = np.linalg.inv(T)\n",
    "    return np.array([[-1,0,0,0],[0,1,0,0],[0,0,-1,0],[0,0,0,1]]) @ T\n",
    "\n",
    "def get_int(image_res=(512, 512)):\n",
    "    fov = 0.23\n",
    "    int = np.array([\n",
    "        -np.array([2*fov/image_res[1], 0, -fov - 1e-5,]),\n",
    "        -np.array([0, 2*fov/image_res[1], -fov - 1e-5,]),\n",
    "        [0, 0, 1]\n",
    "    ])\n",
    "    return np.linalg.inv(int)\n",
    "\n",
    "\n",
    "def gen_3D(camera_rot, camera_pos, rgb, depth, w=512, h=512, file_name=\"deformable_cam1.ply\"):\n",
    "    import open3d as o3d\n",
    "    int = get_int()\n",
    "    fx = fy = int[0, 0]\n",
    "    cx = cy = int[0, 2]\n",
    "    cam = o3d.camera.PinholeCameraIntrinsic(w, h, fx, fy, cx, cy)\n",
    "    extrinsic = get_ext(camera_rot, np.array(camera_pos))\n",
    "    RGB = o3d.geometry.Image(np.ascontiguousarray(np.rot90(rgb,0,(0,1))).astype(np.uint8))\n",
    "    DEPTH = o3d.geometry.Image(np.ascontiguousarray(depth).astype(np.float32))\n",
    "    rgbd = o3d.geometry.RGBDImage.create_from_color_and_depth(RGB, DEPTH, depth_scale=1., depth_trunc=np.inf, convert_rgb_to_intensity=False)\n",
    "    pcd = o3d.geometry.PointCloud.create_from_rgbd_image(rgbd, cam)\n",
    "    pcd.transform(np.linalg.inv(extrinsic))\n",
    "    o3d.io.write_point_cloud(file_name, pcd)"
   ],
   "metadata": {
    "collapsed": false,
    "pycharm": {
     "name": "#%%\n"
    }
   }
  },
  {
   "cell_type": "code",
   "execution_count": null,
   "outputs": [],
   "source": [
    "rots =  [(0.8, 0.), (0.8, 1.8), (0.8, -1.8)]\n",
    "trans = [(0.5, 2.5, 2.2), (2.4, 2.5, 0.2), (-1.9, 2.5, 0.2)]\n",
    "\n",
    "for idx in range(3):\n",
    "    import pickle\n",
    "    rgb, depth = pickle.load(open(f\"tmp{idx}\", 'rb'))\n",
    "    rgb = np.uint8(rgb)\n",
    "    gen_3D(rots[idx],  trans[idx], rgb, depth, file_name=f\"tmp{idx}.ply\")\n"
   ],
   "metadata": {
    "collapsed": false,
    "pycharm": {
     "name": "#%%\n"
    }
   }
  },
  {
   "cell_type": "code",
   "execution_count": 3,
   "outputs": [],
   "source": [
    "#z = d / depth_scale\n",
    "#x = (u - cx) * z / fx\n",
    "#y = (v - cy) * z / fy"
   ],
   "metadata": {
    "collapsed": false,
    "pycharm": {
     "name": "#%%\n"
    }
   }
  },
  {
   "cell_type": "code",
   "execution_count": 4,
   "outputs": [
    {
     "name": "stdout",
     "output_type": "stream",
     "text": [
      "[-0.53809443 -0.36272032  3.1355283   1.        ]\n"
     ]
    }
   ],
   "source": [
    "cam = np.array([0.538094, -0.362720, -3.135529, 1])\n",
    "world = np.array([0.403726, -0.002000, 0.113193, 1])\n",
    "print(get_ext(rots[1], trans[1]) @ world)"
   ],
   "metadata": {
    "collapsed": false,
    "pycharm": {
     "name": "#%%\n"
    }
   }
  }
 ],
 "metadata": {
  "kernelspec": {
   "display_name": "Python 3",
   "language": "python",
   "name": "python3"
  },
  "language_info": {
   "codemirror_mode": {
    "name": "ipython",
    "version": 2
   },
   "file_extension": ".py",
   "mimetype": "text/x-python",
   "name": "python",
   "nbconvert_exporter": "python",
   "pygments_lexer": "ipython2",
   "version": "2.7.6"
  }
 },
 "nbformat": 4,
 "nbformat_minor": 0
}